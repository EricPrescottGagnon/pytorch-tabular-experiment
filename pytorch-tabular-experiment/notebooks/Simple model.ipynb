{
 "cells": [
  {
   "cell_type": "code",
   "execution_count": null,
   "id": "classified-reggae",
   "metadata": {},
   "outputs": [],
   "source": [
    "import torch\n",
    "import pandas\n",
    "import numpy as np\n",
    "\n",
    "import torch.nn as nn\n",
    "import torch.nn.functional as F\n",
    "from torch.utils.data import Dataset, DataLoader\n",
    "\n",
    "import pytorch_lightning as pl"
   ]
  },
  {
   "cell_type": "code",
   "execution_count": null,
   "id": "administrative-packaging",
   "metadata": {},
   "outputs": [],
   "source": [
    "import os\n",
    "from pathlib import Path\n",
    "os.chdir(Path(os.getcwd()).parent)"
   ]
  },
  {
   "cell_type": "code",
   "execution_count": null,
   "id": "transsexual-alcohol",
   "metadata": {},
   "outputs": [],
   "source": [
    "categorical_types = {\"cat\" + str(i): \"category\" for i in range(10)}\n",
    "train = pandas.read_csv(\"data/train.csv\", index_col=\"id\", dtype=categorical_types)\n",
    "test = pandas.read_csv(\"data/test.csv\", index_col=\"id\", dtype=categorical_types)"
   ]
  },
  {
   "cell_type": "code",
   "execution_count": null,
   "id": "dynamic-chair",
   "metadata": {},
   "outputs": [],
   "source": [
    "class ColumnarDataset(Dataset):\n",
    "    \"\"\"Dataset class for column dataset.\n",
    "    Args:\n",
    "       df (Pandas.DataFrame): data   \n",
    "       y (optional str): Target column.\n",
    "    \"\"\"\n",
    "    def __init__(self, df, y = None):\n",
    "        self.y = np.zeros(len(df)) if y is None else df[y].values.astype(np.float32)\n",
    "        self.y = torch.from_numpy(self.y)\n",
    "        \n",
    "        if y:\n",
    "            df = df.drop(y, axis=1)\n",
    "        \n",
    "        df_cat = df.select_dtypes(include=[\"category\"])\n",
    "        df_cat = pandas.get_dummies(df_cat)\n",
    "        \n",
    "        # TODO Make sure test data has cat6_G column after get_dummies to avoid this HACK!\n",
    "        if \"cat6_G\" not in df_cat.columns:\n",
    "            df_cat[\"cat6_G\"] = 0\n",
    "        \n",
    "        df_cont = df.select_dtypes(exclude=[\"category\"])\n",
    "        \n",
    "        df = pandas.concat([df_cat, df_cont], axis=1).sort_index(axis=1)\n",
    "        \n",
    "        self.data = torch.from_numpy(df.values.astype(np.float32))\n",
    "        \n",
    "    def __len__(self): \n",
    "        return len(self.y)\n",
    "    \n",
    "    def __getitem__(self, idx):\n",
    "        return self.data[idx], self.y[idx]"
   ]
  },
  {
   "cell_type": "code",
   "execution_count": null,
   "id": "parallel-harvey",
   "metadata": {},
   "outputs": [],
   "source": [
    "train_dataset = ColumnarDataset(train, \"target\")\n",
    "train_dataloader = DataLoader(train_dataset, batch_size=1024, shuffle=True)\n",
    "\n",
    "test_dataset = ColumnarDataset(test)\n",
    "test_dataloader = DataLoader(test_dataset)"
   ]
  },
  {
   "cell_type": "code",
   "execution_count": null,
   "id": "enabling-bacteria",
   "metadata": {},
   "outputs": [],
   "source": [
    "nb_input_features = len(train_dataset[0][0])\n",
    "nb_input_features"
   ]
  },
  {
   "cell_type": "code",
   "execution_count": null,
   "id": "minor-annual",
   "metadata": {},
   "outputs": [],
   "source": [
    "class LinearModel(pl.LightningModule):\n",
    "    def __init__(self, n_input):\n",
    "        super().__init__()\n",
    "        self.model = nn.Sequential(torch.nn.Linear(n_input, 1))\n",
    "    \n",
    "    def forward(self, x):\n",
    "        out = self.model(x)\n",
    "        return out\n",
    "    \n",
    "    def training_step(self, batch, batch_idx):\n",
    "        x, y = batch\n",
    "        y_hat = self.model(x).squeeze()\n",
    "        loss = F.mse_loss(y_hat, y)\n",
    "        return loss\n",
    "\n",
    "    def configure_optimizers(self):\n",
    "        optimizer = torch.optim.Adam(self.parameters(), lr=1e-3)\n",
    "        return optimizer"
   ]
  },
  {
   "cell_type": "code",
   "execution_count": null,
   "id": "buried-extent",
   "metadata": {},
   "outputs": [],
   "source": [
    "trainer = pl.Trainer(max_epochs=15)"
   ]
  },
  {
   "cell_type": "code",
   "execution_count": null,
   "id": "answering-profession",
   "metadata": {},
   "outputs": [],
   "source": [
    "model = LinearModel(nb_input_features)\n",
    "trainer.fit(model, train_dataloader)"
   ]
  },
  {
   "cell_type": "code",
   "execution_count": null,
   "id": "sunset-theta",
   "metadata": {},
   "outputs": [],
   "source": [
    "test_series = pandas.Series(model(test_dataset.data).squeeze().detach().numpy(), name=\"target\")\n",
    "test_series.index = test.index"
   ]
  },
  {
   "cell_type": "code",
   "execution_count": null,
   "id": "coated-isolation",
   "metadata": {},
   "outputs": [],
   "source": [
    "test_series.to_csv(\"submission.csv\")"
   ]
  },
  {
   "cell_type": "code",
   "execution_count": null,
   "id": "provincial-graduation",
   "metadata": {},
   "outputs": [],
   "source": [
    "test_series"
   ]
  },
  {
   "cell_type": "code",
   "execution_count": null,
   "id": "consolidated-editing",
   "metadata": {},
   "outputs": [],
   "source": []
  }
 ],
 "metadata": {
  "kernelspec": {
   "display_name": "Python 3",
   "language": "python",
   "name": "python3"
  },
  "language_info": {
   "codemirror_mode": {
    "name": "ipython",
    "version": 3
   },
   "file_extension": ".py",
   "mimetype": "text/x-python",
   "name": "python",
   "nbconvert_exporter": "python",
   "pygments_lexer": "ipython3",
   "version": "3.9.1"
  }
 },
 "nbformat": 4,
 "nbformat_minor": 5
}
