{
 "cells": [
  {
   "cell_type": "code",
   "execution_count": null,
   "id": "noble-group",
   "metadata": {},
   "outputs": [],
   "source": [
    "import torch\n",
    "import pandas\n",
    "import numpy as np\n",
    "\n",
    "import torch.nn as nn\n",
    "import torch.nn.functional as F\n",
    "from torch.utils.data import Dataset, DataLoader\n",
    "from torch.utils.data.dataset import random_split\n",
    "from torch.utils.data.sampler import SubsetRandomSampler\n",
    "\n",
    "import pytorch_lightning as pl"
   ]
  },
  {
   "cell_type": "code",
   "execution_count": null,
   "id": "virgin-weekend",
   "metadata": {},
   "outputs": [],
   "source": [
    "import os\n",
    "from pathlib import Path\n",
    "os.chdir(Path(os.getcwd()).parent)"
   ]
  },
  {
   "cell_type": "code",
   "execution_count": null,
   "id": "endangered-lightning",
   "metadata": {},
   "outputs": [],
   "source": [
    "categorical_types = {\"cat\" + str(i): \"category\" for i in range(10)}\n",
    "train = pandas.read_csv(\"data/train.csv\", index_col=\"id\", dtype=categorical_types)\n",
    "test = pandas.read_csv(\"data/test.csv\", index_col=\"id\", dtype=categorical_types)"
   ]
  },
  {
   "cell_type": "code",
   "execution_count": null,
   "id": "natural-might",
   "metadata": {},
   "outputs": [],
   "source": [
    "class ColumnarDataset(Dataset):\n",
    "    \"\"\"Dataset class for column dataset.\n",
    "    Args:\n",
    "       df (Pandas.DataFrame): data   \n",
    "       y (optional str): Target column.\n",
    "    \"\"\"\n",
    "    def __init__(self, df, y = None):\n",
    "        self.y = np.zeros(len(df)) if y is None else df[y].values.astype(np.float32)\n",
    "        self.y = torch.from_numpy(self.y)\n",
    "        \n",
    "        if y:\n",
    "            df = df.drop(y, axis=1)\n",
    "        \n",
    "        df_cat = df.select_dtypes(include=[\"category\"])\n",
    "        df_cat = pandas.get_dummies(df_cat)\n",
    "        \n",
    "        # TODO Make sure test data has cat6_G column after get_dummies to avoid this HACK!\n",
    "        if \"cat6_G\" not in df_cat.columns:\n",
    "            df_cat[\"cat6_G\"] = 0\n",
    "        \n",
    "        df_cont = df.select_dtypes(exclude=[\"category\"])\n",
    "        \n",
    "        df = pandas.concat([df_cat, df_cont], axis=1).sort_index(axis=1)\n",
    "        \n",
    "        self.data = torch.from_numpy(df.values.astype(np.float32))\n",
    "        \n",
    "    def __len__(self): \n",
    "        return len(self.y)\n",
    "    \n",
    "    def __getitem__(self, idx):\n",
    "        return self.data[idx], self.y[idx]"
   ]
  },
  {
   "cell_type": "code",
   "execution_count": null,
   "id": "bibliographic-wholesale",
   "metadata": {},
   "outputs": [],
   "source": [
    "train_dataset = ColumnarDataset(train, \"target\")\n",
    "train_dataset, valid_dataset = random_split(train_dataset, [len(train_dataset)//2, len(train_dataset)//2])\n",
    "\n",
    "train_dataloader = DataLoader(train_dataset, batch_size=1024)\n",
    "valid_dataloader = DataLoader(valid_dataset, batch_size=1024)\n",
    "\n",
    "test_dataset = ColumnarDataset(test)\n",
    "test_dataloader = DataLoader(test_dataset)"
   ]
  },
  {
   "cell_type": "code",
   "execution_count": null,
   "id": "arabic-corpus",
   "metadata": {},
   "outputs": [],
   "source": [
    "nb_input_features = len(train_dataset[0][0])\n",
    "nb_input_features"
   ]
  },
  {
   "cell_type": "code",
   "execution_count": null,
   "id": "supreme-shade",
   "metadata": {},
   "outputs": [],
   "source": [
    "class LinearModel(pl.LightningModule):\n",
    "    def __init__(self, n_input, n_hidden):\n",
    "        super().__init__()\n",
    "        self.model = nn.Sequential(torch.nn.Linear(n_input, n_hidden), torch.nn.ReLU(), torch.nn.Linear(n_hidden, 1))\n",
    "    \n",
    "    def forward(self, x):\n",
    "        out = self.model(x)\n",
    "        return out\n",
    "    \n",
    "    def training_step(self, batch, batch_idx):\n",
    "        x, y = batch\n",
    "        y_hat = self.model(x).squeeze()\n",
    "        loss = F.mse_loss(y_hat, y)\n",
    "        return loss\n",
    "\n",
    "    def configure_optimizers(self):\n",
    "        optimizer = torch.optim.Adam(self.parameters(), lr=1e-3)\n",
    "        return optimizer"
   ]
  },
  {
   "cell_type": "code",
   "execution_count": null,
   "id": "loose-praise",
   "metadata": {},
   "outputs": [],
   "source": [
    "trainer = pl.Trainer(max_epochs=15)"
   ]
  },
  {
   "cell_type": "code",
   "execution_count": null,
   "id": "tight-viewer",
   "metadata": {},
   "outputs": [],
   "source": [
    "model = LinearModel(nb_input_features, 10)\n",
    "trainer.fit(model, train_dataloader)"
   ]
  },
  {
   "cell_type": "code",
   "execution_count": null,
   "id": "equipped-allowance",
   "metadata": {},
   "outputs": [],
   "source": [
    "test_series = pandas.Series(model(test_dataset.data).squeeze().detach().numpy(), name=\"target\")\n",
    "test_series.index = test.index"
   ]
  },
  {
   "cell_type": "code",
   "execution_count": null,
   "id": "civic-pressure",
   "metadata": {},
   "outputs": [],
   "source": [
    "test_series.to_csv(\"submission.csv\")"
   ]
  },
  {
   "cell_type": "code",
   "execution_count": null,
   "id": "upper-specific",
   "metadata": {},
   "outputs": [],
   "source": [
    "test_series"
   ]
  },
  {
   "cell_type": "code",
   "execution_count": null,
   "id": "turkish-muslim",
   "metadata": {},
   "outputs": [],
   "source": [
    "test_series.plot.hist(bins=50)"
   ]
  },
  {
   "cell_type": "code",
   "execution_count": null,
   "id": "unlimited-requirement",
   "metadata": {},
   "outputs": [],
   "source": [
    "train[\"target\"].plot.hist(bins=50)"
   ]
  },
  {
   "cell_type": "code",
   "execution_count": null,
   "id": "thermal-technician",
   "metadata": {},
   "outputs": [],
   "source": [
    "from catboost import CatBoostRegressor"
   ]
  },
  {
   "cell_type": "code",
   "execution_count": null,
   "id": "authentic-suggestion",
   "metadata": {},
   "outputs": [],
   "source": [
    "model = CatBoostRegressor(cat_features=list(categorical_types.keys()))"
   ]
  },
  {
   "cell_type": "code",
   "execution_count": null,
   "id": "utility-marriage",
   "metadata": {},
   "outputs": [],
   "source": [
    "model.fit(train.drop('target', axis=1), train['target'])"
   ]
  },
  {
   "cell_type": "code",
   "execution_count": null,
   "id": "electric-tracy",
   "metadata": {},
   "outputs": [],
   "source": [
    "catboost_results_series = pandas.Series(model.predict(test), name=\"target\", index=test.index)"
   ]
  },
  {
   "cell_type": "code",
   "execution_count": null,
   "id": "eligible-pathology",
   "metadata": {},
   "outputs": [],
   "source": [
    "catboost_results_series.to_csv(\"catboost_submission.csv\")"
   ]
  },
  {
   "cell_type": "code",
   "execution_count": null,
   "id": "tender-distinction",
   "metadata": {},
   "outputs": [],
   "source": [
    "catboost_results_series.plot.hist(bins=50)"
   ]
  },
  {
   "cell_type": "code",
   "execution_count": null,
   "id": "developmental-latest",
   "metadata": {},
   "outputs": [],
   "source": []
  }
 ],
 "metadata": {
  "kernelspec": {
   "display_name": "Python 3",
   "language": "python",
   "name": "python3"
  },
  "language_info": {
   "codemirror_mode": {
    "name": "ipython",
    "version": 3
   },
   "file_extension": ".py",
   "mimetype": "text/x-python",
   "name": "python",
   "nbconvert_exporter": "python",
   "pygments_lexer": "ipython3",
   "version": "3.9.1"
  }
 },
 "nbformat": 4,
 "nbformat_minor": 5
}
